{
 "cells": [
  {
   "cell_type": "markdown",
   "metadata": {},
   "source": [
    "# MNIST dataset\n",
    "\n",
    "Define and train two different NN models to classify the mnist dataset.\n",
    "Use a class called Mnist, \n",
    "    \n",
    "    m_dense = Mnist(model_type='dense', epoch=10)\n",
    "or\n",
    "  \n",
    "    m_conv  = Mnist(model_type='conv' , epoch=5)\n",
    "    \n",
    "with input parameters \n",
    "\n",
    "    'model_type' = 'dense' (default) or 'conv'\n",
    "    'epochs' = integer (default = 10)"
   ]
  },
  {
   "cell_type": "code",
   "execution_count": null,
   "metadata": {},
   "outputs": [],
   "source": [
    "import keras                                                                                          \n",
    "import matplotlib.pyplot as plt\n",
    "import numpy as np\n",
    "%matplotlib inline\n",
    "\n",
    "\n",
    "class Mnist():\n",
    "    ''' Simple sequential model to learn the mnist dataset \n",
    "        ex usage:\n",
    "\n",
    "        import mnist\n",
    "        \n",
    "        # use densely connected model:\n",
    "        m_dense = Mnist(model_type='dense', epoch=10)\n",
    "        \n",
    "        # use convolutional + densely connected model:\n",
    "        m_conv  = Mnist(model_type='conv' , epoch=5)\n",
    "        \n",
    "        # test:\n",
    "        m_conv.predict(3)\n",
    "    '''\n",
    "\n",
    "    def __init__(self, model_type='dense', epochs=10):\n",
    "        self.epochs = epochs\n",
    "        self.load_data()\n",
    "        self.model_type = model_type\n",
    "        if model_type == 'dense':\n",
    "            self.make_dense_model()\n",
    "        elif model_type == 'conv':\n",
    "            self.make_conv_model()\n",
    "        else:\n",
    "            raise Exception('model_type not valid')\n",
    "        print(self.model.summary())\n",
    "        self.compile_train_plot_model()\n",
    "\n",
    "        \n",
    "    def load_data(self):\n",
    "        '''download the data'''\n",
    "        from keras.datasets import mnist\n",
    "        print('Downloading data...')\n",
    "        (self.train_imgs, self.train_labels), (self.test_imgs, self.test_labels) = mnist.load_data()\n",
    "        print('Done.')\n",
    "\n",
    "        \n",
    "    def make_dense_model(self):\n",
    "        ''' densely connected model '''\n",
    "        print('Init. densely connected model...')\n",
    "        # prepare data:\n",
    "        self.train_imgs = self.train_imgs.reshape((60000, 28*28))\n",
    "        self.train_imgs = self.train_imgs.astype('float32')/255\n",
    "        self.test_imgs = self.test_imgs.reshape((10000, 28*28))\n",
    "        self.test_imgs = self.test_imgs.astype('float32')/255\n",
    "        self.train_labels = keras.utils.to_categorical(self.train_labels)\n",
    "        self.test_labels  = keras.utils.to_categorical(self.test_labels)\n",
    "        # build model:\n",
    "        self.model = keras.models.Sequential() \n",
    "        self.model.add(keras.layers.Dense(512, activation='relu', input_shape=(28*28,)))   \n",
    "        # add dropout:\n",
    "        #self.model.add(keras.layers.Dropout(0.5))\n",
    "        self.model.add(keras.layers.Dense(10, activation='softmax'))\n",
    "        print('Done.')\n",
    "\n",
    "        \n",
    "    def make_conv_model(self):\n",
    "        ''' convolutional + densely connected model '''\n",
    "        print('Init. convolutional + densely connected model...')\n",
    "        # prepare data:\n",
    "        self.train_imgs = self.train_imgs.reshape((60000, 28, 28, 1))\n",
    "        self.train_imgs = self.train_imgs.astype('float32')/255\n",
    "        self.test_imgs = self.test_imgs.reshape((10000, 28, 28, 1))\n",
    "        self.test_imgs = self.test_imgs.astype('float32')/255\n",
    "        self.train_labels = keras.utils.to_categorical(self.train_labels)\n",
    "        self.test_labels  = keras.utils.to_categorical(self.test_labels)\n",
    "        # build model:\n",
    "        self.model = keras.models.Sequential()\n",
    "        self.model.add(keras.layers.Conv2D(8, (3,3), activation='relu', input_shape=(28,28,1)))\n",
    "        self.model.add(keras.layers.Flatten())\n",
    "        self.model.add(keras.layers.Dense(512, activation='relu'))\n",
    "        #self.model.add(keras.layers.Dropout(0.5))\n",
    "        self.model.add(keras.layers.Dense(10, activation='softmax'))\n",
    "        print('Done.')\n",
    "\n",
    "\n",
    "    def compile_train_plot_model(self):\n",
    "        # compile the model:\n",
    "        self.model.compile(optimizer='rmsprop', loss='categorical_crossentropy', metrics=['accuracy'])\n",
    "        # train the model: \n",
    "        self.model.fit(self.train_imgs, self.train_labels, validation_split=0.1, epochs=self.epochs, batch_size=128)\n",
    "        # plot losses:\n",
    "        plt.figure('make_model', figsize=(6,8))\n",
    "        plt.subplot(211)\n",
    "        plt.plot(self.model.history.history['loss'], label=self.model_type+' train_loss')\n",
    "        plt.plot(self.model.history.history['val_loss'], label=self.model_type+' val_loss')\n",
    "        plt.legend()\n",
    "        plt.subplot(212)\n",
    "        # metric on training set:\n",
    "        plt.plot(self.model.history.history['acc'], label=self.model_type+' train_acc')\n",
    "        # metric on validation set:\n",
    "        plt.plot(self.model.history.history['val_acc'], label=self.model_type+' val_acc')\n",
    "        plt.legend()\n",
    "        plt.subplot(212)\n",
    "        plt.xlabel('epoch')\n",
    "\n",
    "        \n",
    "    def predict(self, n=0):\n",
    "        ''' show test image number n with its prediction'''\n",
    "        plt.imshow(self.test_imgs[n].reshape(28,28)) \n",
    "        plt.title(f'True: {np.where(self.test_labels[n])[0]}   Predicted:{np.argmax(self.model.predict(self.test_imgs[n:n+1]))}')                                                                           \n",
    "                                     "
   ]
  },
  {
   "cell_type": "markdown",
   "metadata": {},
   "source": [
    "instance of the calss Mnist with a dense model:"
   ]
  },
  {
   "cell_type": "code",
   "execution_count": null,
   "metadata": {
    "scrolled": true
   },
   "outputs": [],
   "source": [
    "m = Mnist(model_type='dense', epochs=5)"
   ]
  },
  {
   "cell_type": "code",
   "execution_count": null,
   "metadata": {},
   "outputs": [],
   "source": [
    "m = Mnist(model_type='conv', epochs=5)"
   ]
  },
  {
   "cell_type": "code",
   "execution_count": null,
   "metadata": {},
   "outputs": [],
   "source": [
    "m.predict(11)"
   ]
  }
 ],
 "metadata": {
  "kernelspec": {
   "display_name": "Python 3",
   "language": "python",
   "name": "python3"
  },
  "language_info": {
   "codemirror_mode": {
    "name": "ipython",
    "version": 3
   },
   "file_extension": ".py",
   "mimetype": "text/x-python",
   "name": "python",
   "nbconvert_exporter": "python",
   "pygments_lexer": "ipython3",
   "version": "3.6.7"
  }
 },
 "nbformat": 4,
 "nbformat_minor": 2
}
